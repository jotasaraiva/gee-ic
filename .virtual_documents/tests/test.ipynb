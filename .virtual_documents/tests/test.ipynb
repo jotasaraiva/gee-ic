import ee
import numpy as np
import pandas as pd
import geemap
import matplotlib.pyplot as plt
import sys
import os
sys.path.append(os.path.abspath(os.path.join(os.getcwd(),os.pardir)))
from src import eetools as eet
from src import saveModule


try: 
    ee.Initialize()
except:
    ee.Authenticate()
    ee.Initialize()


coordenadas = "-48.53801472648439,-22.503806214013736,-48.270222978437516,-22.7281869567509"
x1, y1, x2, y2 = coordenadas.split(",")

datas = "2014-08-01,2014-12-01"
inicio, fim = datas.split(",")

escala = 30


geom = ee.Geometry.Polygon([[[float(x1),float(y2)],
                             [float(x2),float(y2)],
                             [float(x2),float(y1)],
                             [float(x1),float(y1)],
                             [float(x1),float(y2)]]])

latitude_central = (float(x1)+float(x2))/2
longitude_central = (float(y1)+float(y2))/2


collec = ee.ImageCollection('LANDSAT/LC08/C01/T1_SR')\
    .filterBounds(geom)\
    .filterDate(inicio,fim)\
    .filterMetadata('CLOUD_COVER','less_than',30)\
    .map(eet.ndvi)


ndvi_collec = collec\
    .select('ndvi')\
    .toBands()

ndvi_collec_bands = ndvi_collec\
    .bandNames()\
    .getInfo()


blended = ee.Image(99999).blend(ndvi_collec)


ts = eet.extrair_lonlat(blended,geom,ndvi_collec_bands,escala)
ts


def corrigir_dummies(df):
    for i in range(0,len(df.columns)):
        for j in range(0,len(df.iloc[:,i])):
            if df.iloc[j,i] == 99999:
                df.iat[j,i] = df.iloc[j,i-1]
    return df


subset = ts.iloc[:,[0,1,3,13,14]].head(500)
subset


corrigir_dummies(subset)


image = ts.iloc[:,[0,1,2,13,14]]
image


image.columns


image = image.rename(columns={"latitude":"Latitude","longitude":"Longitude"})
image


saveModule.save_tiff_from_df(
    image,
    ['LC08_220076_20140911_ndvi', 'LC08_220076_20141013_ndvi','LC08_220076_20141029_ndvi'],
    99999,
    "imagem.tif",
    "EPSG:4326"
)


from osgeo import gdal


filepath = r'imagem.tif'

raster = gdal.Open(filepath)

type(raster)


raster.RasterCount


array = raster.GetRasterBand(2).ReadAsArray()
array.shape


plt.imshow(array)
plt.colorbar()



