{
 "cells": [
  {
   "cell_type": "code",
   "execution_count": null,
   "id": "36ee75e4-64dd-419e-9ec3-7bd7a48aab20",
   "metadata": {},
   "outputs": [],
   "source": [
    "import ee\n",
    "import numpy as np\n",
    "import pandas as pd\n",
    "import geemap\n",
    "from src import eetools as eet\n",
    "import matplotlib.pyplot as plt"
   ]
  },
  {
   "cell_type": "code",
   "execution_count": null,
   "id": "39e97ad9-c0b2-4003-a9d3-92a506e7f07e",
   "metadata": {},
   "outputs": [],
   "source": [
    "try: \n",
    "    ee.Initialize()\n",
    "except:\n",
    "    ee.Authenticate()\n",
    "    ee.Initialize()"
   ]
  },
  {
   "cell_type": "code",
   "execution_count": null,
   "id": "dd808d08-b1e6-4c1e-bb67-31947f83e37f",
   "metadata": {},
   "outputs": [],
   "source": [
    "coordenadas = \"-48.53801472648439,-22.503806214013736,-48.270222978437516,-22.7281869567509\"\n",
    "x1, y1, x2, y2 = coordenadas.split(\",\")\n",
    "\n",
    "datas = \"2014-08-01,2014-12-01\"\n",
    "inicio, fim = datas.split(\",\")\n",
    "\n",
    "escala = 30"
   ]
  },
  {
   "cell_type": "code",
   "execution_count": null,
   "id": "35154f2f-8f0f-4e5d-8ebe-4827c6c855eb",
   "metadata": {},
   "outputs": [],
   "source": [
    "geom = ee.Geometry.Polygon([[[float(x1),float(y2)],\n",
    "                             [float(x2),float(y2)],\n",
    "                             [float(x2),float(y1)],\n",
    "                             [float(x1),float(y1)],\n",
    "                             [float(x1),float(y2)]]])\n",
    "\n",
    "latitude_central = (float(x1)+float(x2))/2\n",
    "longitude_central = (float(y1)+float(y2))/2"
   ]
  },
  {
   "cell_type": "code",
   "execution_count": null,
   "id": "8b00d690-0f29-47df-812b-d67a5ad210e8",
   "metadata": {},
   "outputs": [],
   "source": [
    "collec = ee.ImageCollection('LANDSAT/LC08/C01/T1_SR')\\\n",
    "    .filterBounds(geom)\\\n",
    "    .filterDate(inicio,fim)\\\n",
    "    .filterMetadata('CLOUD_COVER','less_than',30)\\\n",
    "    .map(eet.ndvi)"
   ]
  },
  {
   "cell_type": "code",
   "execution_count": null,
   "id": "d3c9da20-6331-4932-a5af-329f6f715ea3",
   "metadata": {},
   "outputs": [],
   "source": [
    "ndvi_collec = collec\\\n",
    "    .select('ndvi')\\\n",
    "    .toBands()\n",
    "\n",
    "ndvi_collec_bands = ndvi_collec\\\n",
    "    .bandNames()\\\n",
    "    .getInfo()"
   ]
  },
  {
   "cell_type": "code",
   "execution_count": null,
   "id": "2491971d-2512-4f8f-84a5-96e66e3a4b48",
   "metadata": {},
   "outputs": [],
   "source": [
    "blended = ee.Image(99999).blend(ndvi_collec)"
   ]
  },
  {
   "cell_type": "code",
   "execution_count": null,
   "id": "58b62d13-97a0-448a-be4a-6a3efd84ead8",
   "metadata": {
    "editable": true,
    "slideshow": {
     "slide_type": ""
    },
    "tags": []
   },
   "outputs": [],
   "source": [
    "ts = eet.extrair_lonlat(blended,geom,ndvi_collec_bands,escala)\n",
    "ts"
   ]
  },
  {
   "cell_type": "code",
   "execution_count": null,
   "id": "60fac17f-0928-4bfc-acfe-fdb115639aa6",
   "metadata": {
    "editable": true,
    "slideshow": {
     "slide_type": ""
    },
    "tags": []
   },
   "outputs": [],
   "source": [
    "def corrigir_dummies(df):\n",
    "    for i in range(0,len(df.columns)):\n",
    "        for j in range(0,len(df.iloc[:,i])):\n",
    "            if df.iloc[j,i] == 99999:\n",
    "                df.iat[j,i] = df.iloc[j,i-1]\n",
    "    return df"
   ]
  },
  {
   "cell_type": "code",
   "execution_count": null,
   "id": "06801731-0799-427a-9fcf-cf3f12fd2060",
   "metadata": {},
   "outputs": [],
   "source": [
    "subset = ts.iloc[:,[0,1,3,13,14]].head(500)\n",
    "subset"
   ]
  },
  {
   "cell_type": "code",
   "execution_count": null,
   "id": "34f1ca32-19e4-4b0f-98a3-52739b3f304b",
   "metadata": {},
   "outputs": [],
   "source": [
    "corrigir_dummies(subset)"
   ]
  },
  {
   "cell_type": "code",
   "execution_count": null,
   "id": "d393dc04-cfce-4274-80ac-a0dae633eac9",
   "metadata": {},
   "outputs": [],
   "source": [
    "image = ts.iloc[:,[0,1,2,13,14]]\n",
    "image"
   ]
  },
  {
   "cell_type": "code",
   "execution_count": null,
   "id": "fa3dbbaf-3f19-40ba-96d2-f96391aaac97",
   "metadata": {},
   "outputs": [],
   "source": [
    "import saveModule"
   ]
  },
  {
   "cell_type": "code",
   "execution_count": null,
   "id": "fbdb3c97-422e-4a8b-843c-56eb933a16d9",
   "metadata": {},
   "outputs": [],
   "source": [
    "image.columns"
   ]
  },
  {
   "cell_type": "code",
   "execution_count": null,
   "id": "30c28e5b-ff32-4a77-b053-25f9c5606050",
   "metadata": {},
   "outputs": [],
   "source": [
    "image = image.rename(columns={\"latitude\":\"Latitude\",\"longitude\":\"Longitude\"})\n",
    "image"
   ]
  },
  {
   "cell_type": "code",
   "execution_count": null,
   "id": "05a8c6a4-8fc0-4de0-be72-71d7e253624c",
   "metadata": {},
   "outputs": [],
   "source": [
    "saveModule.save_tiff_from_df(\n",
    "    image,\n",
    "    ['LC08_220076_20140911_ndvi', 'LC08_220076_20141013_ndvi','LC08_220076_20141029_ndvi'],\n",
    "    99999,\n",
    "    \"imagem.tif\",\n",
    "    \"EPSG:4326\"\n",
    ")"
   ]
  },
  {
   "cell_type": "code",
   "execution_count": null,
   "id": "5291694d-3414-4c6e-92d9-393b725b0e4b",
   "metadata": {},
   "outputs": [],
   "source": [
    "from osgeo import gdal"
   ]
  },
  {
   "cell_type": "code",
   "execution_count": null,
   "id": "93f16a7f-6d61-4ac7-aada-cbb12d9d0ded",
   "metadata": {},
   "outputs": [],
   "source": [
    "filepath = r'imagem.tif'\n",
    "\n",
    "raster = gdal.Open(filepath)\n",
    "\n",
    "type(raster)"
   ]
  },
  {
   "cell_type": "code",
   "execution_count": null,
   "id": "5dc5093b-897d-41c4-8b4a-86c02c6cda43",
   "metadata": {},
   "outputs": [],
   "source": [
    "raster.RasterCount"
   ]
  },
  {
   "cell_type": "code",
   "execution_count": null,
   "id": "98832c70-f06d-4515-b718-8e70d654a3af",
   "metadata": {},
   "outputs": [],
   "source": [
    "array = raster.GetRasterBand(2).ReadAsArray()\n",
    "array.shape"
   ]
  },
  {
   "cell_type": "code",
   "execution_count": null,
   "id": "0889ac91-26ea-43f4-aa69-e563058672b3",
   "metadata": {},
   "outputs": [],
   "source": [
    "plt.imshow(array)\n",
    "plt.colorbar()"
   ]
  },
  {
   "cell_type": "code",
   "execution_count": null,
   "id": "1c3ee38a-63f0-498f-be33-025192097633",
   "metadata": {},
   "outputs": [],
   "source": []
  }
 ],
 "metadata": {
  "kernelspec": {
   "display_name": "Python 3 (ipykernel)",
   "language": "python",
   "name": "python3"
  },
  "language_info": {
   "codemirror_mode": {
    "name": "ipython",
    "version": 3
   },
   "file_extension": ".py",
   "mimetype": "text/x-python",
   "name": "python",
   "nbconvert_exporter": "python",
   "pygments_lexer": "ipython3",
   "version": "3.10.0"
  }
 },
 "nbformat": 4,
 "nbformat_minor": 5
}
