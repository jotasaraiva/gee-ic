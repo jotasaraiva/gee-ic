{
 "cells": [
  {
   "cell_type": "code",
   "execution_count": 1,
   "id": "d6323e3c-7424-4ab2-a962-fdd2bbe805bc",
   "metadata": {},
   "outputs": [],
   "source": [
    "import geemap\n",
    "import ee"
   ]
  },
  {
   "cell_type": "code",
   "execution_count": 2,
   "id": "4438fd15-7bd3-4530-9718-c995859e4e91",
   "metadata": {},
   "outputs": [],
   "source": [
    "try: \n",
    "    ee.Initialize()\n",
    "except:\n",
    "    ee.Authenticate()\n",
    "    ee.Initialize()"
   ]
  },
  {
   "cell_type": "code",
   "execution_count": 7,
   "id": "1e999583-d37d-47cb-aa34-4fee4862da22",
   "metadata": {
    "scrolled": true
   },
   "outputs": [
    {
     "data": {
      "application/vnd.jupyter.widget-view+json": {
       "model_id": "fa97e03fad3542ac92404529b0c270a9",
       "version_major": 2,
       "version_minor": 0
      },
      "text/plain": [
       "Map(center=[20, 0], controls=(WidgetControl(options=['position', 'transparent_bg'], widget=HBox(children=(Togg…"
      ]
     },
     "execution_count": 7,
     "metadata": {},
     "output_type": "execute_result"
    }
   ],
   "source": [
    "map = geemap.Map()\n",
    "map"
   ]
  },
  {
   "cell_type": "code",
   "execution_count": 22,
   "id": "2c7c7f40-8ece-4650-b685-ce8d138349a9",
   "metadata": {},
   "outputs": [
    {
     "data": {
      "text/plain": [
       "[<ee.feature.Feature at 0x1c3d9b244c0>, <ee.feature.Feature at 0x1c3d9b25f00>]"
      ]
     },
     "execution_count": 22,
     "metadata": {},
     "output_type": "execute_result"
    }
   ],
   "source": [
    "map.draw_features"
   ]
  },
  {
   "cell_type": "code",
   "execution_count": 32,
   "id": "79d77b12-0019-4d59-8f85-80f93ead4595",
   "metadata": {},
   "outputs": [
    {
     "data": {
      "text/plain": [
       "[-48.534679, -22.508117]"
      ]
     },
     "execution_count": 32,
     "metadata": {},
     "output_type": "execute_result"
    }
   ],
   "source": [
    "map.draw_features[0].geometry().coordinates().getInfo()"
   ]
  },
  {
   "cell_type": "code",
   "execution_count": 33,
   "id": "b5b0df1a-1b72-49fd-a8bd-5e5899a650f1",
   "metadata": {},
   "outputs": [
    {
     "data": {
      "text/plain": [
       "[-48.50481, -22.538879]"
      ]
     },
     "execution_count": 33,
     "metadata": {},
     "output_type": "execute_result"
    }
   ],
   "source": [
    "map.draw_features[1].geometry().coordinates().getInfo()"
   ]
  },
  {
   "cell_type": "code",
   "execution_count": null,
   "id": "c8a55bfc-28a2-4410-b221-a61b3c221242",
   "metadata": {},
   "outputs": [],
   "source": []
  }
 ],
 "metadata": {
  "kernelspec": {
   "display_name": "Python 3 (ipykernel)",
   "language": "python",
   "name": "python3"
  },
  "language_info": {
   "codemirror_mode": {
    "name": "ipython",
    "version": 3
   },
   "file_extension": ".py",
   "mimetype": "text/x-python",
   "name": "python",
   "nbconvert_exporter": "python",
   "pygments_lexer": "ipython3",
   "version": "3.10.0"
  }
 },
 "nbformat": 4,
 "nbformat_minor": 5
}
